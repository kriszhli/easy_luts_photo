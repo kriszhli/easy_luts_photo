{
 "cells": [
  {
   "cell_type": "markdown",
   "metadata": {},
   "source": [
    "## Environment: \n",
    "\n",
    "Python 3.9\n",
    "\n",
    "## Requirements: \n",
    "\n",
    "pip install _gradio opencv-python pillow numpy pillow-lut_"
   ]
  },
  {
   "cell_type": "code",
   "execution_count": 20,
   "metadata": {},
   "outputs": [
    {
     "name": "stdout",
     "output_type": "stream",
     "text": [
      "Running on local URL:  http://127.0.0.1:7878\n",
      "\n",
      "To create a public link, set `share=True` in `launch()`.\n"
     ]
    },
    {
     "data": {
      "text/html": [
       "<div><iframe src=\"http://127.0.0.1:7878/\" width=\"100%\" height=\"500\" allow=\"autoplay; camera; microphone; clipboard-read; clipboard-write;\" frameborder=\"0\" allowfullscreen></iframe></div>"
      ],
      "text/plain": [
       "<IPython.core.display.HTML object>"
      ]
     },
     "metadata": {},
     "output_type": "display_data"
    },
    {
     "data": {
      "text/plain": []
     },
     "execution_count": 20,
     "metadata": {},
     "output_type": "execute_result"
    }
   ],
   "source": [
    "import gradio as gr\n",
    "from PIL import Image, ImageEnhance\n",
    "from pillow_lut import load_cube_file\n",
    "import os\n",
    "import numpy as np\n",
    "\n",
    "def adjust_tint(image, factor):\n",
    "    img_array = np.array(image).astype(float)\n",
    "    img_array[:,:,1] = np.clip(img_array[:,:,1] * factor, 0, 255)\n",
    "    return Image.fromarray(img_array.astype('uint8'))\n",
    "\n",
    "def adjust_white_balance(image, kelvin):\n",
    "    if kelvin <= 6600:\n",
    "        red = 255\n",
    "        green = 99.4708025861 * np.log(kelvin / 100) - 161.1195681661\n",
    "        blue = 138.5177312231 * np.log(kelvin / 100 - 10) - 305.0447927307 if kelvin > 1900 else 0\n",
    "    else:\n",
    "        red = 329.698727446 * ((kelvin / 100 - 60) ** -0.1332047592)\n",
    "        green = 288.1221695283 * ((kelvin / 100 - 60) ** -0.0755148492)\n",
    "        blue = 255\n",
    "\n",
    "    r_multiplier = max(0, min(255, red)) / 255\n",
    "    g_multiplier = max(0, min(255, green)) / 255\n",
    "    b_multiplier = max(0, min(255, blue)) / 255\n",
    "\n",
    "    img_array = np.array(image).astype(float)\n",
    "    img_array[:,:,0] = np.clip(img_array[:,:,0] * r_multiplier, 0, 255)\n",
    "    img_array[:,:,1] = np.clip(img_array[:,:,1] * g_multiplier, 0, 255)\n",
    "    img_array[:,:,2] = np.clip(img_array[:,:,2] * b_multiplier, 0, 255)\n",
    "\n",
    "    return Image.fromarray(img_array.astype('uint8'))\n",
    "\n",
    "def process_image(input_image, lut_option, brightness, contrast, white_balance, tint, saturation):\n",
    "    if input_image is None:\n",
    "        return None\n",
    "    \n",
    "    # Apply LUT\n",
    "    lut_path = f\"luts/{lut_option}.cube\"\n",
    "    lut = load_cube_file(lut_path)\n",
    "    result = input_image.filter(lut)\n",
    "    \n",
    "    # Adjust brightness\n",
    "    enhancer = ImageEnhance.Brightness(result)\n",
    "    result = enhancer.enhance(brightness)\n",
    "    \n",
    "    # Adjust contrast\n",
    "    enhancer = ImageEnhance.Contrast(result)\n",
    "    result = enhancer.enhance(contrast)\n",
    "    \n",
    "    # Adjust white balance\n",
    "    result = adjust_white_balance(result, white_balance)\n",
    "    \n",
    "    # Adjust tint\n",
    "    result = adjust_tint(result, tint)\n",
    "    \n",
    "    # Adjust saturation\n",
    "    enhancer = ImageEnhance.Color(result)\n",
    "    result = enhancer.enhance(saturation)\n",
    "    \n",
    "    return result\n",
    "\n",
    "# Get list of LUT files\n",
    "lut_files = [f.split('.')[0] for f in os.listdir('luts') if f.endswith('.cube')]\n",
    "\n",
    "# Create Gradio interface\n",
    "iface = gr.Interface(\n",
    "    fn=process_image,\n",
    "    inputs=[\n",
    "        gr.Image(type=\"pil\", label=\"Upload Image\"),\n",
    "        gr.Dropdown(choices=lut_files, label=\"Select LUT Filter\", value=lut_files[0]),\n",
    "        gr.Slider(minimum=0.5, maximum=1.5, value=1.0, step=0.01, label=\"Brightness\"),\n",
    "        gr.Slider(minimum=0.5, maximum=1.5, value=1.0, step=0.01, label=\"Contrast\"),\n",
    "        gr.Slider(minimum=2500, maximum=8500, value=5500, step=100, label=\"White Balance (Kelvin)\"),\n",
    "        gr.Slider(minimum=0.5, maximum=1.5, value=1.0, step=0.01, label=\"Tint\"),\n",
    "        gr.Slider(minimum=0, maximum=2, value=1.0, step=0.01, label=\"Saturation\")\n",
    "    ],\n",
    "    outputs=gr.Image(type=\"pil\", label=\"Processed Image\"),\n",
    "    title=\"Fxck Adobe\",\n",
    "    live=True,\n",
    "    theme=gr.themes.Monochrome(),\n",
    "    allow_flagging=\"never\"\n",
    ")\n",
    "\n",
    "# Launch the interface\n",
    "iface.launch()"
   ]
  }
 ],
 "metadata": {
  "kernelspec": {
   "display_name": "Python 3",
   "language": "python",
   "name": "python3"
  },
  "language_info": {
   "codemirror_mode": {
    "name": "ipython",
    "version": 3
   },
   "file_extension": ".py",
   "mimetype": "text/x-python",
   "name": "python",
   "nbconvert_exporter": "python",
   "pygments_lexer": "ipython3",
   "version": "3.9.19"
  }
 },
 "nbformat": 4,
 "nbformat_minor": 2
}
